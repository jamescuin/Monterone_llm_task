{
 "cells": [
  {
   "cell_type": "markdown",
   "metadata": {},
   "source": [
    "## Imports"
   ]
  },
  {
   "cell_type": "code",
   "execution_count": 1,
   "metadata": {},
   "outputs": [],
   "source": [
    "import os\n",
    "from dotenv import load_dotenv\n",
    "\n",
    "import random\n",
    "from typing import List, Dict\n",
    "\n",
    "from langchain_openai import OpenAI\n",
    "from langchain_openai import ChatOpenAI\n",
    "from langchain_openai import OpenAIEmbeddings\n",
    "from langchain_community.document_loaders import PyMuPDFLoader\n",
    "from langchain.vectorstores import Chroma\n",
    "from langchain.chains import RetrievalQA\n",
    "from langchain import PromptTemplate, FewShotPromptTemplate\n",
    "from langchain.callbacks import get_openai_callback\n",
    "import tiktoken"
   ]
  },
  {
   "cell_type": "markdown",
   "metadata": {},
   "source": [
    "## Utility Functions"
   ]
  },
  {
   "cell_type": "code",
   "execution_count": 2,
   "metadata": {},
   "outputs": [],
   "source": [
    "def preview_formatted_prompt(question: str, retriever, prompt_template):\n",
    "    \"\"\"\n",
    "    Recovers the relevant context for the passed `question`, based on the passed `retriever`, \n",
    "    and combines these as a formatted prompt, based on the `prompt_template`.\n",
    "    \"\"\"\n",
    "    pages = retriever.invoke(question)\n",
    "    \n",
    "    context = \"\\n\\n\".join([page.page_content for page in pages])\n",
    "    \n",
    "    formatted_prompt = prompt_template.format(context=context, question=question)\n",
    "    \n",
    "    return formatted_prompt\n",
    "\n",
    "def get_random_examples(examples: List[Dict[str, str]], n: int = 1) -> List[Dict[str, str]]:\n",
    "    \"\"\"\n",
    "    Returns a `n` random examples from the passed list of examples.\n",
    "    \"\"\"\n",
    "    return random.sample(examples, n)\n",
    "\n",
    "def count_tokens(text: str, model_name: str) -> int:\n",
    "    \"\"\"\n",
    "    Counts the number of tokens in the passed `text` using the specified model's encoding.\n",
    "    \"\"\"\n",
    "    enc = tiktoken.encoding_for_model(model_name)\n",
    "    tokens = enc.encode(text)\n",
    "    return len(tokens)\n",
    "\n",
    "def ask_llm(question: str, llm_chain, retriever, verbose: bool = True) -> tuple:\n",
    "    \"\"\"\n",
    "    Recovers the relevant context for the passed `question`, based on the passed `retriever`, \n",
    "    and invokes the LLM that is part of the `llm_chain` to recieve an answer. The context, as well\n",
    "    as a question and answer pair, is returned.\n",
    "    \"\"\"\n",
    "    with get_openai_callback() as cb:\n",
    "        pages = retriever.invoke(question)\n",
    "        \n",
    "        context = \"\\n\\n\".join([page.page_content for page in pages])\n",
    "        \n",
    "        question_and_answer = llm_chain.invoke(question)\n",
    "\n",
    "        if verbose:\n",
    "            print(f\"Total Tokens: {cb.total_tokens}\")\n",
    "            print(f\"Prompt Tokens: {cb.prompt_tokens}\")\n",
    "            print(f\"Completion Tokens: {cb.completion_tokens}\")\n",
    "            print(f\"Total Cost (USD): ${cb.total_cost}\")\n",
    "    \n",
    "    return context, question_and_answer"
   ]
  },
  {
   "cell_type": "markdown",
   "metadata": {},
   "source": [
    "## LLM and RAG Setup"
   ]
  },
  {
   "cell_type": "markdown",
   "metadata": {},
   "source": [
    "Before answering questions using a LLM (either open or closed source) we need to load the respective LLM, as well as the documents to be used as part of RAG. To begine with, we will use the `gpt-3.5-turbo-1106` model, and then later the `gpt-4-turbo` model.\n",
    "\n",
    "**To be clear, we are using only OpenAI models in this notebook.**"
   ]
  },
  {
   "cell_type": "code",
   "execution_count": 3,
   "metadata": {},
   "outputs": [],
   "source": [
    "# Load environment variables from `.env` file securely\n",
    "load_dotenv()\n",
    "\n",
    "# Set OpenAI API key for API access\n",
    "os.environ['OPENAI_API_KEY'] = os.getenv(\"OPENAI_API_KEY\")"
   ]
  },
  {
   "cell_type": "code",
   "execution_count": 4,
   "metadata": {},
   "outputs": [],
   "source": [
    "# Create loader to read and split `.pdf` documents\n",
    "loader = PyMuPDFLoader('How ASML took over the chipmaking chessboard (MIT 010424).pdf')\n",
    "\n",
    "# Load and split `.pdf` document by pages\n",
    "pages = loader.load_and_split()"
   ]
  },
  {
   "cell_type": "code",
   "execution_count": 5,
   "metadata": {},
   "outputs": [
    {
     "name": "stdout",
     "output_type": "stream",
     "text": [
      "page_content='1 \n",
      " \n",
      "How ASML took over the chipmaking chessboard \n",
      "MIT Technology Review sat down with outgoing CTO Martin van den Brink to talk about the company’s rise to \n",
      "dominance and the life and death of Moore’s Law. \n",
      " \n",
      "By Mat Honanarchive pageJames O'Donnellarchive page \n",
      "April 1, 2024 \n",
      " \n",
      "On a drab Monday morning in San Jose, California, at the drab San Jose Convention Center, attendees of the SPIE \n",
      "Advanced Lithography and Patterning Conference filed into the main ballroom until all the seats were taken and the \n",
      "crowd began to line the walls along the back and sides of the room. The convention brings together people who work in \n",
      "the chip industry from all over the world. And on this cool February morning, they had gathered to hear tech industry \n",
      "luminaries extol the late Gordon Moore, Intel’s cofounder and first CEO.  \n",
      " \n",
      "Craig Barrett, also a former CEO of Intel, paid tribute, as did the legendary engineer Burn-Jeng Lin, a pioneer of \n",
      "immersion lithography, a patterning technology that enabled the chip industry to continue moving forward about 20 \n",
      "years ago. Mostly the speeches tended toward reflections on Moore himself—testaments to his genius, \n",
      "accomplishments, and humanity. But the last speaker of the morning, Martin van den Brink, took a different tone, more \n",
      "akin to a victory lap than a eulogy. Van den Brink is the outgoing co-president and CTO of ASML, the Dutch company \n",
      "that makes the machines that in turn let manufacturers produce the most advanced computer chips in the world.  \n",
      " \n",
      "Moore’s Law holds that the number of transistors on an integrated circuit doubles every two years or so. In essence, it \n",
      "means that chipmakers are always trying to shrink the transistors on a microchip in order to pack more of them in. The \n",
      "cadence has been increasingly hard to maintain now that transistor dimensions measure in a few nanometers. In recent \n",
      "years ASML’s machines have kept Moore’s Law from sputtering out. Today, they are the only ones in the world capable \n",
      "of producing circuitry at the density needed to keep chipmakers roughly on track. It is the premise of Moore’s Law itself, \n",
      "van den Brink said, that drives the industry forward, year after year.  \n",
      " \n",
      "To showcase how big an achievement it had been to maintain Moore’s Law since he joined ASML in 1984, van den Brink \n",
      "referred to the rice and chessboard problem, in which the number of grains of rice—a proxy for transistors—is doubled \n",
      "on each successive square. The exponential growth in the number of transistors that can be crammed on a chip since \n",
      "1959 means that a single grain of rice back then has now become the equivalent of three ocean tankers, each 240 \n",
      "meters long, full of rice. It’s a lot of rice! Yet Moore’s Law compels the company—compels all of the technology \n",
      "industry—to keep pushing forward. Each era of computing, most recently AI, has brought increased demands, explained \n",
      "van den Brink. In other words, while three tankers full of rice may seem like a lot, tomorrow we’re going to need six. \n",
      "Then 12. Then 24. And so on. \n",
      " \n",
      "ASML’s technology, he assured the gathering, would be there to meet the demands, thanks to the company’s \n",
      "investment in creating tools capable of making ever finer features: the extreme-ultraviolet (EUV) lithography machines \n",
      "it rolled out widely in 2017, the high-numerical-aperture (high-NA) EUV machines it is rolling out now, and the hyper-NA \n",
      "EUV machines it has sketched out for the future.  \n",
      " \n",
      "The tribute may have been designed for Gordon Moore, but at the end of van den Brink’s presentation the entire room \n",
      "rose to give him a standing ovation. Because if Gordon Moore deserves credit for creating the law that drove the \n",
      "progress of the industry, as van den Brink says, van den Brink and ASML deserve much of the credit for ensuring that \n",
      "progress remains possible.  \n",
      " \n",
      "Yet that also means the pressure is on. ASML has to try and stay ahead of the demands of Moore’s Law. It has to' metadata={'source': 'How ASML took over the chipmaking chessboard (MIT 010424).pdf', 'file_path': 'How ASML took over the chipmaking chessboard (MIT 010424).pdf', 'page': 0, 'total_pages': 5, 'format': 'PDF 1.5', 'title': '', 'author': 'Markus Taraba', 'subject': '', 'keywords': '', 'creator': 'Microsoft® Word 2016', 'producer': 'Microsoft® Word 2016', 'creationDate': \"D:20240402212712+01'00'\", 'modDate': \"D:20240402212712+01'00'\", 'trapped': ''}\n",
      "page_content='progress remains possible.  \n",
      " \n",
      "Yet that also means the pressure is on. ASML has to try and stay ahead of the demands of Moore’s Law. It has to \n",
      "continue making sure chipmakers can keep doubling the amount of rice on the chessboard. Will that be possible? Van \n",
      "den Brink sat down with MIT Technology Review to talk about ASML’s history, its legacy, and what comes next.' metadata={'source': 'How ASML took over the chipmaking chessboard (MIT 010424).pdf', 'file_path': 'How ASML took over the chipmaking chessboard (MIT 010424).pdf', 'page': 0, 'total_pages': 5, 'format': 'PDF 1.5', 'title': '', 'author': 'Markus Taraba', 'subject': '', 'keywords': '', 'creator': 'Microsoft® Word 2016', 'producer': 'Microsoft® Word 2016', 'creationDate': \"D:20240402212712+01'00'\", 'modDate': \"D:20240402212712+01'00'\", 'trapped': ''}\n",
      "page_content='2 \n",
      " \n",
      " \n",
      "Betting big on an unwieldy wavelength \n",
      " \n",
      "ASML is such an undisputed leader in today’s chip ecosystem that it’s hard to believe the company’s market dominance \n",
      "really only dates back to 2017, when its EUV machine, after 17 years of development, upended the conventional process \n",
      "for making chips.  \n",
      " \n",
      "Since the 1960s, photolithography has made it possible to pack computer chips with more and more components. The \n",
      "process involves crafting small circuits by guiding beams of light through a series of mirrors and lenses and then shining \n",
      "that light on a mask, which contains a pattern. Light conveys the chip design, layer by layer, eventually building circuits \n",
      "that form the computational building blocks of everything from smartphones to artificial intelligence. \n",
      " \n",
      "Photolithographers have a limited set of tools at their disposal to make smaller designs, and for decades, the type of \n",
      "light used in the machine was the most critical. In the 1960s, machines used beams of visible light. The smallest features \n",
      "this light could draw on the chip were fairly large—a bit like using a marker to draw a portrait.  \n",
      " \n",
      "Then manufacturers began using smaller and smaller wavelengths of light, and by the early 1980s, they could make \n",
      "chips with ultraviolet light. Nikon and Canon were the industry leaders. ASML, founded in 1984 as a subsidiary of Philips \n",
      "in Eindhoven, the Netherlands, was just a small player. \n",
      " \n",
      "The way van den Brink tells it, he arrived at the company almost by accident. Philips was one of a few technology \n",
      "companies in Holland. When he began his career there in 1984 and was looking into the various opportunities at the \n",
      "company, he became intrigued by a photo of a lithography machine. \n",
      " \n",
      "“I looked at the picture and I said, ‘It has mechanics, it has optics, it has software—this looks like a complex machine. I \n",
      "will be interested in that,” van den Brink told MIT Technology Review. “They said, well, you can do it, but the company \n",
      "will not be part of Philips. We are creating a joint venture with ASM International, and after the joint venture, you will \n",
      "not be part of Philips. I said yes because I couldn’t care less. And that’s how it began.” \n",
      " \n",
      "When van den Brink joined in the 1980s, little about ASML made the company stand out from other major lithography \n",
      "players at the time. “We didn’t sell a substantial amount of systems until the ’90s. And we almost went bankrupt several \n",
      "times in that period,” van den Brink says. “So for us there was only one mission: to survive and show a customer that we \n",
      "could make a difference.” \n",
      " \n",
      "By 1995, it had a strong enough foothold in the industry against competitors Nikon and Canon to go public. But all \n",
      "lithography makers were fighting the same battle to create smaller components on chips.  \n",
      " \n",
      "If you could have eavesdropped on a meeting at ASML in the late 1990s about this predicament, you might have heard \n",
      "chatter about an idea called extreme-ultraviolet (EUV) lithography—along with concerns that it might never work). By \n",
      "that point, with pressure to condense chips beyond current capabilities, it seemed as if everyone was chasing EUV. The \n",
      "idea was to pattern chips with an even smaller wavelength of light (ultimately just 13.5 nanometers). To do so, ASML \n",
      "would have to figure out how to create, capture, and focus this light—processes that had stumped researchers for \n",
      "decades—and build a supply chain of specialized materials, including the smoothest mirrors ever produced. And to \n",
      "make sure the price point wouldn’t drive away its customers.  \n",
      " \n",
      "Canon and Nikon were also pursuing EUV, but the US government denied them a license to participate in the \n",
      "consortium of companies and US national labs researching it. Both subsequently dropped out. Meanwhile ASML \n",
      "acquired the fourth major company pursuing EUV, SVG, in 2001. By 2006 it had shipped only two EUV prototype \n",
      "machines to research facilities, and it took until 2010 to ship one to a customer. Five years later, ASML warned in its' metadata={'source': 'How ASML took over the chipmaking chessboard (MIT 010424).pdf', 'file_path': 'How ASML took over the chipmaking chessboard (MIT 010424).pdf', 'page': 1, 'total_pages': 5, 'format': 'PDF 1.5', 'title': '', 'author': 'Markus Taraba', 'subject': '', 'keywords': '', 'creator': 'Microsoft® Word 2016', 'producer': 'Microsoft® Word 2016', 'creationDate': \"D:20240402212712+01'00'\", 'modDate': \"D:20240402212712+01'00'\", 'trapped': ''}\n",
      "page_content='3 \n",
      " \n",
      "annual report that EUV sales remained low, that customers weren’t eager to adopt the technology given its slow speed \n",
      "on the production line, and that if the pattern continued, it could have “material” effects on the business given the \n",
      "significant investment.  \n",
      " \n",
      "Yet in 2017, after an investment of $6.5 billion in R&D over 17 years, ASML’s bet began to pay off. That year the \n",
      "company shipped 10 of its EUV machines, which cost over $100 million each, and announced that dozens more were on \n",
      "backorder. EUV machines went to the titans of semiconductor manufacturing—Intel, Samsung, and Taiwan \n",
      "Semiconductor Manufacturing Company (TSMC)—and a small number of others. With a brighter light source (meaning \n",
      "less time needed to impart patterns), among other improvements, the machines were capable of faster production \n",
      "speeds. The leap to EUV finally made economic sense to chipmakers, putting ASML essentially in a monopoly position. \n",
      " \n",
      "Chris Miller, a history professor at Tufts University and author of Chip War: The Fight for the World's Most Critical \n",
      "Technology, says that ASML was culturally equipped to see those experiments through. “It’s a stubborn willingness to \n",
      "invest in technology that most people thought wouldn’t work,” he told MIT Technology Review. “No one else was \n",
      "betting on EUV, because the development process was so long and expensive. It involves stretching the limits of physics, \n",
      "engineering, and chemistry.” \n",
      " \n",
      "A key factor in ASML’s growth was its control of the supply chain. ASML acquired number of the companies it relies on, \n",
      "like Cymer, a maker of light sources. That strategy of pointedly controlling power in the supply chain extended to \n",
      "ASML’s customers, too. In 2012, it offered shares to its three biggest customers, which were able to maintain market \n",
      "dominance of their own in part because of the elite manufacturing power of ASML’s machines.  \n",
      " \n",
      "“Our success depends on their success,” van den Brink told MIT Technology Review.  \n",
      " \n",
      "It’s also a testament to ASML’s dominance that it is for the most part no longer allowed to sell its most advanced \n",
      "systems to customers in China. Though ASML still does business in China, in 2019, following pressure from the Trump \n",
      "administration, the Dutch government began imposing restrictions on ASML’s exports of EUV machines to China. Those \n",
      "rules were tightened further just last year and now also impose limits on some of the company’s deep-ultraviolet (DUV) \n",
      "machines, which are used to make less highly advanced chips than EUV systems. \n",
      " \n",
      "Van den Brink says the way world leaders are now discussing lithography was unimaginable when the company began: \n",
      "“Our prime minister was sitting in front of Xi Jinping, not because he was from Holland—who would give a shit about \n",
      "Holland. He was there because we are making EUV.” \n",
      " \n",
      "Just a few years after the first EUV machines shipped, ASML would face its second upheaval. Around the start of the \n",
      "pandemic, interest and progress in the field of artificial intelligence sent demand for computing power skyrocketing. \n",
      "Companies like OpenAI needed ever more powerful computer chips and by late 2022 the frenzy and investment in AI \n",
      "began to boil over.  \n",
      " \n",
      "By that time, ASML was closing in on its newest innovation. Having already adopted a smaller wavelength of light (and \n",
      "realigned the entire semiconductor industry to it in the process), it now turned its attention to the other lever in its \n",
      "control: numerical aperture. That’s the measure of how much light a system can focus, and if ASML could increase it, the \n",
      "company’s machines could print even smaller components. \n",
      " \n",
      "Doing so meant myriad changes. ASML had to source an even larger set of mirrors from its supplier Carl Zeiss, which had \n",
      "to be made ultra-smooth. Zeiss had to build entirely new machines, the sole purpose of which was to measure the \n",
      "smoothness of mirrors destined for ASML. The aim was to reduce the number of costly repercussions the change would' metadata={'source': 'How ASML took over the chipmaking chessboard (MIT 010424).pdf', 'file_path': 'How ASML took over the chipmaking chessboard (MIT 010424).pdf', 'page': 2, 'total_pages': 5, 'format': 'PDF 1.5', 'title': '', 'author': 'Markus Taraba', 'subject': '', 'keywords': '', 'creator': 'Microsoft® Word 2016', 'producer': 'Microsoft® Word 2016', 'creationDate': \"D:20240402212712+01'00'\", 'modDate': \"D:20240402212712+01'00'\", 'trapped': ''}\n",
      "page_content='smoothness of mirrors destined for ASML. The aim was to reduce the number of costly repercussions the change would \n",
      "have on the rest of the supply chain, like the companies that make reticles containing the designs of the chips.' metadata={'source': 'How ASML took over the chipmaking chessboard (MIT 010424).pdf', 'file_path': 'How ASML took over the chipmaking chessboard (MIT 010424).pdf', 'page': 2, 'total_pages': 5, 'format': 'PDF 1.5', 'title': '', 'author': 'Markus Taraba', 'subject': '', 'keywords': '', 'creator': 'Microsoft® Word 2016', 'producer': 'Microsoft® Word 2016', 'creationDate': \"D:20240402212712+01'00'\", 'modDate': \"D:20240402212712+01'00'\", 'trapped': ''}\n",
      "page_content='4 \n",
      " \n",
      "In December of 2023, ASML began shipping the first of its next-generation EUV device, a high-NA machine, to Intel’s \n",
      "facility in Hillsboro, Oregon. It’s an R&D version, and so far the only one in the field. It took seven planes and 50 trucks \n",
      "to get it to Intel’s plant, and installation of the machine, which is larger than a double-decker bus, will take six months.  \n",
      " \n",
      "The high-NA machines will only be needed to produce the most precise layers of advanced chips for the industry; the \n",
      "designs on many others will still be printed using the previous generation of EUV machines or older DUV machines.  \n",
      " \n",
      "ASML has received orders for high-NA machines from all its current EUV customers. They don’t come cheap: reports put \n",
      "the cost at $380 million. Intel was the first customer to strike, ordering the first machine available in early 2022. The \n",
      "company, which has lost significant market share to competitor TSMC, is betting that the new technology will give it a \n",
      "new foothold in the industry, even though other chipmakers will eventually have access to it too.  \n",
      " \n",
      "“There are obvious benefits to Intel for being the first,” Miller says. “There are also obvious risks.” Sorting out which \n",
      "chips to use these machines for and how to get its money’s worth out of them will be a challenge for the company, \n",
      "according to Miller.  \n",
      " \n",
      "The launch of these machines, if successful, might be seen as the crowning achievement of van den Brink’s career. But \n",
      "he is already moving on to what comes next. \n",
      " \n",
      "The future \n",
      " \n",
      "The next big idea for ASML, according to van den Brink and other company executives who spoke with MIT Technology \n",
      "Review, is hyper-NA technology. The company’s high-NA machines have a numerical aperture of .55. Hyper-NA tools \n",
      "would have a numerical aperture higher than 0.7. What that ultimately means is that hyper NA, if successful, will allow \n",
      "the company to create machines that let manufacturers shrink transistor dimensions even more—assuming that \n",
      "researchers can devise chip components that work well at such small dimensions. As it was with EUV in the early 2000s, \n",
      "it is still uncertain whether hyper NA is feasible—if nothing else, it could be cost prohibitive. Yet van den Brink projects \n",
      "cautious confidence. It is likely, he says, that the company will ultimately have three offerings available: low NA, high \n",
      "NA, and—if all goes well—hyper NA.  \n",
      " \n",
      "“Hyper NA is a bit more risky,” says van den Brink. “We will be more cautious and more cost sensitive in the future. But \n",
      "if we can pull this off, we have a winning trio which takes care of all the advanced manufacturing for the foreseeable \n",
      "future.” \n",
      " \n",
      "Yet although today everyone is banking on ASML to keep pushing the industry forward, there is speculation that a \n",
      "competitor could emerge from China. Van den Brink was dismissive of this possibility, citing the gap in even last-\n",
      "generation lithography.  \n",
      " \n",
      "“SMEE are making DUV machines, or at least claim they can,” he told MIT Technology Review, referring to a company \n",
      "that makes the predecessor to EUV lithography technology, and pointed out that ASML still has the dominant market \n",
      "share. The political pressures could mean more progress for China. But getting to the level of complexity involved in \n",
      "ASML’s suite of machines, with low, high, and hyper NA is another matter, he says: “I feel quite comfortable that this \n",
      "will be a long time before they can copy that.” \n",
      " \n",
      "Miller, from Tufts University, is confident that Chinese companies will eventually develop these sorts of technologies on \n",
      "their own, but agrees that the question is when. “If it's in a decade, it will be too late,” he says.' metadata={'source': 'How ASML took over the chipmaking chessboard (MIT 010424).pdf', 'file_path': 'How ASML took over the chipmaking chessboard (MIT 010424).pdf', 'page': 3, 'total_pages': 5, 'format': 'PDF 1.5', 'title': '', 'author': 'Markus Taraba', 'subject': '', 'keywords': '', 'creator': 'Microsoft® Word 2016', 'producer': 'Microsoft® Word 2016', 'creationDate': \"D:20240402212712+01'00'\", 'modDate': \"D:20240402212712+01'00'\", 'trapped': ''}\n",
      "page_content='5 \n",
      " \n",
      "The real question, perhaps, is not who will make the machines, but whether Moore’s Law will hold at all. Nvidia CEO \n",
      "Jensen Huang has already declared it dead. But when asked what he thought might eventually cause Moore’s Law to \n",
      "finally stall out, van den Brink rejected the premise entirely.  \n",
      " \n",
      "“There’s no reason to believe this will stop. You won’t get the answer from me where it will end,” he said. “It will end \n",
      "when we’re running out of ideas where the value we create with all this will not balance with the cost it will take. Then \n",
      "it will end. And not by the lack of ideas.” \n",
      " \n",
      "He had struck a similar posture during his Moore tribute at the SPIE conference, exuding confidence. “I’m not sure who \n",
      "will give the presentation 10 years from now,” he said, going back to his rice analogy. “But my successors,” he claimed, \n",
      "“will still have the opportunity to fill the chessboard.” \n",
      " \n",
      "This story was updated to clarify information about ASML's operations in China.' metadata={'source': 'How ASML took over the chipmaking chessboard (MIT 010424).pdf', 'file_path': 'How ASML took over the chipmaking chessboard (MIT 010424).pdf', 'page': 4, 'total_pages': 5, 'format': 'PDF 1.5', 'title': '', 'author': 'Markus Taraba', 'subject': '', 'keywords': '', 'creator': 'Microsoft® Word 2016', 'producer': 'Microsoft® Word 2016', 'creationDate': \"D:20240402212712+01'00'\", 'modDate': \"D:20240402212712+01'00'\", 'trapped': ''}\n"
     ]
    }
   ],
   "source": [
    "# Quick check to see that `.pdf` is laoded as expected\n",
    "for page in pages:\n",
    "    print(page)"
   ]
  },
  {
   "cell_type": "code",
   "execution_count": 6,
   "metadata": {},
   "outputs": [],
   "source": [
    "# Utilise OpenAI vector embeddings\n",
    "embeddings = OpenAIEmbeddings()\n",
    "\n",
    "# Store embeddings, for each page, using ChromaDB\n",
    "stored_embeddings = Chroma.from_documents(pages, embeddings, collection_name='asml_report')\n",
    "\n",
    "# Create a naive retriever (cosine similarity for each page)\n",
    "retriever = stored_embeddings.as_retriever(search_type=\"similarity\", search_kwargs={\"k\": 3})\n",
    "# Maximum marginal relevance retriever\n",
    "retriever_mmr = stored_embeddings.as_retriever(search_type=\"mmr\", search_kwargs={\"k\": 3})"
   ]
  },
  {
   "cell_type": "markdown",
   "metadata": {},
   "source": [
    "The Maximum Marginal Relevance (MMR) algorithm is designed to optimize the balance between relevance and diversity in information retrieval and summarization tasks. Here is a concise overview:\n",
    "\n",
    "\n",
    "- Define relevance as the match quality between a document and a query, and diversity as the degree to which documents differ from each other.\n",
    "- Start with a query and an initial set of document candidates.\n",
    "- **MMR Score Calculation**\n",
    "\n",
    "    * Calculate relevance scores using similarity metrics like cosine similarity or TF-IDF.\n",
    "    * Compute similarity scores between each candidate and selected documents to assess diversity.\n",
    "    * Derive the MMR score as: $\\text{MMR} = \\lambda \\times \\text{Relevance} - (1 - \\lambda) \\times \\text{Max Similarity}$\n",
    "    where $\\lambda$ balances relevance (higher values) and diversity (lower values).\n",
    "\n",
    "-  Choose the document with the highest MMR score, add it to the result set, and remove it from candidates.\n",
    "-  Repeat scoring and selection until the desired number of documents is reached or other stopping criteria are met.\n",
    "-  The result is a set of documents that are relevant to the query and diverse across different aspects.\n",
    "\n",
    "This method is particularly useful in scenarios where exposure to varied perspectives is beneficial.\n"
   ]
  },
  {
   "cell_type": "markdown",
   "metadata": {},
   "source": [
    "### Pricing\n",
    "\n",
    "![title](pricing.png)\n",
    "\n",
    "For a full list of OpenAI API pricing, see: https://openai.com/api/pricing/."
   ]
  },
  {
   "cell_type": "code",
   "execution_count": 7,
   "metadata": {},
   "outputs": [],
   "source": [
    "# Define (OpenAI) model hyperparameters to use (See pricing above!)\n",
    "LLM_HYPERPARAMETERS = {\n",
    "    'MODEL_NAME': 'gpt-3.5-turbo-1106',\n",
    "    'CHAT_MODEL': True,\n",
    "    'TEMPERATURE': 0,\n",
    "    'VERBOSE': True,\n",
    "    'MAX_OUTPUT_TOKENS': -1 # Set to -1 for no limit\n",
    "}\n",
    "\n",
    "# Instantiate (Chat) OpenAI LLM\n",
    "if LLM_HYPERPARAMETERS['CHAT_MODEL'] == True:\n",
    "    llm = ChatOpenAI(\n",
    "        model=LLM_HYPERPARAMETERS['MODEL_NAME'], \n",
    "        temperature=LLM_HYPERPARAMETERS['TEMPERATURE'], \n",
    "        verbose=LLM_HYPERPARAMETERS['VERBOSE']\n",
    "    )\n",
    "else:\n",
    "    llm = OpenAI(\n",
    "        model=LLM_HYPERPARAMETERS['MODEL_NAME'], \n",
    "        temperature=LLM_HYPERPARAMETERS['TEMPERATURE'], \n",
    "        verbose=LLM_HYPERPARAMETERS['VERBOSE']\n",
    "    )"
   ]
  },
  {
   "cell_type": "code",
   "execution_count": 9,
   "metadata": {},
   "outputs": [],
   "source": [
    "# Create prompt template\n",
    "template = \"\"\"You are a world-leading financial analyst. Please provide a comprehensive and illuminating answer to the following question based on the given context. DO NOT BE LAZY!\n",
    "\n",
    "Context:\n",
    "{context}\n",
    "\n",
    "Q: {question}\n",
    "\n",
    "A:\"\"\"\n",
    "\n",
    "zero_shot_prompt_template = PromptTemplate(\n",
    "    input_variables=[\"context\", \"question\"],\n",
    "    template=template\n",
    ")\n",
    "\n",
    "# Create RetrievalQA chain\n",
    "qa_chain_zero_shot = RetrievalQA.from_chain_type(\n",
    "    llm=llm,\n",
    "    chain_type=\"stuff\",\n",
    "    retriever=retriever,\n",
    "    chain_type_kwargs={\"prompt\": zero_shot_prompt_template},\n",
    "    verbose=True\n",
    ")"
   ]
  },
  {
   "cell_type": "code",
   "execution_count": 10,
   "metadata": {},
   "outputs": [
    {
     "name": "stdout",
     "output_type": "stream",
     "text": [
      "You are a world-leading financial analyst. Please provide a comprehensive and illuminating answer to the following question based on the given context. DO NOT BE LAZY!\n",
      "\n",
      "Context:\n",
      "{context}\n",
      "\n",
      "Q: {question}\n",
      "\n",
      "A:\n"
     ]
    }
   ],
   "source": [
    "print(qa_chain_zero_shot.combine_documents_chain.llm_chain.prompt.template)"
   ]
  },
  {
   "cell_type": "code",
   "execution_count": 11,
   "metadata": {},
   "outputs": [
    {
     "name": "stdout",
     "output_type": "stream",
     "text": [
      "You are a world-leading financial analyst. Please provide a comprehensive and illuminating answer to the following question based on the given context. DO NOT BE LAZY!\n",
      "\n",
      "Context:\n",
      "2 \n",
      " \n",
      " \n",
      "Betting big on an unwieldy wavelength \n",
      " \n",
      "ASML is such an undisputed leader in today’s chip ecosystem that it’s hard to believe the company’s market dominance \n",
      "really only dates back to 2017, when its EUV machine, after 17 years of development, upended the conventional process \n",
      "for making chips.  \n",
      " \n",
      "Since the 1960s, photolithography has made it possible to pack computer chips with more and more components. The \n",
      "process involves crafting small circuits by guiding beams of light through a series of mirrors and lenses and then shining \n",
      "that light on a mask, which contains a pattern. Light conveys the chip design, layer by layer, eventually building circuits \n",
      "that form the computational building blocks of everything from smartphones to artificial intelligence. \n",
      " \n",
      "Photolithographers have a limited set of tools at their disposal to make smaller designs, and for decades, the type of \n",
      "light used in the machine was the most critical. In the 1960s, machines used beams of visible light. The smallest features \n",
      "this light could draw on the chip were fairly large—a bit like using a marker to draw a portrait.  \n",
      " \n",
      "Then manufacturers began using smaller and smaller wavelengths of light, and by the early 1980s, they could make \n",
      "chips with ultraviolet light. Nikon and Canon were the industry leaders. ASML, founded in 1984 as a subsidiary of Philips \n",
      "in Eindhoven, the Netherlands, was just a small player. \n",
      " \n",
      "The way van den Brink tells it, he arrived at the company almost by accident. Philips was one of a few technology \n",
      "companies in Holland. When he began his career there in 1984 and was looking into the various opportunities at the \n",
      "company, he became intrigued by a photo of a lithography machine. \n",
      " \n",
      "“I looked at the picture and I said, ‘It has mechanics, it has optics, it has software—this looks like a complex machine. I \n",
      "will be interested in that,” van den Brink told MIT Technology Review. “They said, well, you can do it, but the company \n",
      "will not be part of Philips. We are creating a joint venture with ASM International, and after the joint venture, you will \n",
      "not be part of Philips. I said yes because I couldn’t care less. And that’s how it began.” \n",
      " \n",
      "When van den Brink joined in the 1980s, little about ASML made the company stand out from other major lithography \n",
      "players at the time. “We didn’t sell a substantial amount of systems until the ’90s. And we almost went bankrupt several \n",
      "times in that period,” van den Brink says. “So for us there was only one mission: to survive and show a customer that we \n",
      "could make a difference.” \n",
      " \n",
      "By 1995, it had a strong enough foothold in the industry against competitors Nikon and Canon to go public. But all \n",
      "lithography makers were fighting the same battle to create smaller components on chips.  \n",
      " \n",
      "If you could have eavesdropped on a meeting at ASML in the late 1990s about this predicament, you might have heard \n",
      "chatter about an idea called extreme-ultraviolet (EUV) lithography—along with concerns that it might never work). By \n",
      "that point, with pressure to condense chips beyond current capabilities, it seemed as if everyone was chasing EUV. The \n",
      "idea was to pattern chips with an even smaller wavelength of light (ultimately just 13.5 nanometers). To do so, ASML \n",
      "would have to figure out how to create, capture, and focus this light—processes that had stumped researchers for \n",
      "decades—and build a supply chain of specialized materials, including the smoothest mirrors ever produced. And to \n",
      "make sure the price point wouldn’t drive away its customers.  \n",
      " \n",
      "Canon and Nikon were also pursuing EUV, but the US government denied them a license to participate in the \n",
      "consortium of companies and US national labs researching it. Both subsequently dropped out. Meanwhile ASML \n",
      "acquired the fourth major company pursuing EUV, SVG, in 2001. By 2006 it had shipped only two EUV prototype \n",
      "machines to research facilities, and it took until 2010 to ship one to a customer. Five years later, ASML warned in its\n",
      "\n",
      "progress remains possible.  \n",
      " \n",
      "Yet that also means the pressure is on. ASML has to try and stay ahead of the demands of Moore’s Law. It has to \n",
      "continue making sure chipmakers can keep doubling the amount of rice on the chessboard. Will that be possible? Van \n",
      "den Brink sat down with MIT Technology Review to talk about ASML’s history, its legacy, and what comes next.\n",
      "\n",
      "5 \n",
      " \n",
      "The real question, perhaps, is not who will make the machines, but whether Moore’s Law will hold at all. Nvidia CEO \n",
      "Jensen Huang has already declared it dead. But when asked what he thought might eventually cause Moore’s Law to \n",
      "finally stall out, van den Brink rejected the premise entirely.  \n",
      " \n",
      "“There’s no reason to believe this will stop. You won’t get the answer from me where it will end,” he said. “It will end \n",
      "when we’re running out of ideas where the value we create with all this will not balance with the cost it will take. Then \n",
      "it will end. And not by the lack of ideas.” \n",
      " \n",
      "He had struck a similar posture during his Moore tribute at the SPIE conference, exuding confidence. “I’m not sure who \n",
      "will give the presentation 10 years from now,” he said, going back to his rice analogy. “But my successors,” he claimed, \n",
      "“will still have the opportunity to fill the chessboard.” \n",
      " \n",
      "This story was updated to clarify information about ASML's operations in China.\n",
      "\n",
      "Q: MY_QUESTION\n",
      "\n",
      "A:\n"
     ]
    }
   ],
   "source": [
    "print(preview_formatted_prompt(\"MY_QUESTION\", retriever, zero_shot_prompt_template))"
   ]
  },
  {
   "cell_type": "code",
   "execution_count": 12,
   "metadata": {},
   "outputs": [],
   "source": [
    "examples = [\n",
    "    {\"question\": \"Who is the outgoing CTO of ASML?\", \"answer\": \"The outgoing CTO of ASML is Van den Brink.\"},\n",
    "]\n",
    "\n",
    "# Create prompt template for each example\n",
    "example_template = \"\"\"\n",
    "Question: {question}\n",
    "Answer: {answer}\n",
    "\"\"\"\n",
    "\n",
    "example_prompt = PromptTemplate(\n",
    "    input_variables=[\"question\", \"answer\"],\n",
    "    template=example_template\n",
    ")\n",
    "\n",
    "# Create few-shot prompt template\n",
    "few_shot_prompt_template = FewShotPromptTemplate(\n",
    "    examples=get_random_examples(examples, n=1),\n",
    "    example_prompt=example_prompt,\n",
    "    prefix=\"\"\"You are a world-leading financial analyst. Please provide a comprehensive and illuminating answer to the following question based on the given context and examples. DO NOT BE LAZY!\n",
    "\n",
    "Here are some examples:\"\"\",\n",
    "    suffix=\"\"\"\n",
    "Context:\n",
    "{context}\n",
    "\n",
    "Question: {question}\n",
    "\n",
    "Answer:\"\"\",\n",
    "    input_variables=[\"context\", \"question\"],\n",
    "    example_separator=\"\\n\\n\"\n",
    ")\n",
    "\n",
    "# Create RetrievalQA chain\n",
    "qa_chain_few_shot = RetrievalQA.from_chain_type(\n",
    "    llm=llm,\n",
    "    chain_type=\"stuff\",\n",
    "    retriever=retriever,\n",
    "    chain_type_kwargs={\"prompt\": few_shot_prompt_template},\n",
    "    verbose=True\n",
    ")"
   ]
  },
  {
   "cell_type": "code",
   "execution_count": 13,
   "metadata": {},
   "outputs": [
    {
     "name": "stdout",
     "output_type": "stream",
     "text": [
      "You are a world-leading financial analyst. Please provide a comprehensive and illuminating answer to the following question based on the given context and examples. DO NOT BE LAZY!\n",
      "\n",
      "Here are some examples:\n",
      "\n",
      "\n",
      "Question: Who is the outgoing CTO of ASML?\n",
      "Answer: The outgoing CTO of ASML is Van den Brink.\n",
      "\n",
      "\n",
      "\n",
      "Context:\n",
      "2 \n",
      " \n",
      " \n",
      "Betting big on an unwieldy wavelength \n",
      " \n",
      "ASML is such an undisputed leader in today’s chip ecosystem that it’s hard to believe the company’s market dominance \n",
      "really only dates back to 2017, when its EUV machine, after 17 years of development, upended the conventional process \n",
      "for making chips.  \n",
      " \n",
      "Since the 1960s, photolithography has made it possible to pack computer chips with more and more components. The \n",
      "process involves crafting small circuits by guiding beams of light through a series of mirrors and lenses and then shining \n",
      "that light on a mask, which contains a pattern. Light conveys the chip design, layer by layer, eventually building circuits \n",
      "that form the computational building blocks of everything from smartphones to artificial intelligence. \n",
      " \n",
      "Photolithographers have a limited set of tools at their disposal to make smaller designs, and for decades, the type of \n",
      "light used in the machine was the most critical. In the 1960s, machines used beams of visible light. The smallest features \n",
      "this light could draw on the chip were fairly large—a bit like using a marker to draw a portrait.  \n",
      " \n",
      "Then manufacturers began using smaller and smaller wavelengths of light, and by the early 1980s, they could make \n",
      "chips with ultraviolet light. Nikon and Canon were the industry leaders. ASML, founded in 1984 as a subsidiary of Philips \n",
      "in Eindhoven, the Netherlands, was just a small player. \n",
      " \n",
      "The way van den Brink tells it, he arrived at the company almost by accident. Philips was one of a few technology \n",
      "companies in Holland. When he began his career there in 1984 and was looking into the various opportunities at the \n",
      "company, he became intrigued by a photo of a lithography machine. \n",
      " \n",
      "“I looked at the picture and I said, ‘It has mechanics, it has optics, it has software—this looks like a complex machine. I \n",
      "will be interested in that,” van den Brink told MIT Technology Review. “They said, well, you can do it, but the company \n",
      "will not be part of Philips. We are creating a joint venture with ASM International, and after the joint venture, you will \n",
      "not be part of Philips. I said yes because I couldn’t care less. And that’s how it began.” \n",
      " \n",
      "When van den Brink joined in the 1980s, little about ASML made the company stand out from other major lithography \n",
      "players at the time. “We didn’t sell a substantial amount of systems until the ’90s. And we almost went bankrupt several \n",
      "times in that period,” van den Brink says. “So for us there was only one mission: to survive and show a customer that we \n",
      "could make a difference.” \n",
      " \n",
      "By 1995, it had a strong enough foothold in the industry against competitors Nikon and Canon to go public. But all \n",
      "lithography makers were fighting the same battle to create smaller components on chips.  \n",
      " \n",
      "If you could have eavesdropped on a meeting at ASML in the late 1990s about this predicament, you might have heard \n",
      "chatter about an idea called extreme-ultraviolet (EUV) lithography—along with concerns that it might never work). By \n",
      "that point, with pressure to condense chips beyond current capabilities, it seemed as if everyone was chasing EUV. The \n",
      "idea was to pattern chips with an even smaller wavelength of light (ultimately just 13.5 nanometers). To do so, ASML \n",
      "would have to figure out how to create, capture, and focus this light—processes that had stumped researchers for \n",
      "decades—and build a supply chain of specialized materials, including the smoothest mirrors ever produced. And to \n",
      "make sure the price point wouldn’t drive away its customers.  \n",
      " \n",
      "Canon and Nikon were also pursuing EUV, but the US government denied them a license to participate in the \n",
      "consortium of companies and US national labs researching it. Both subsequently dropped out. Meanwhile ASML \n",
      "acquired the fourth major company pursuing EUV, SVG, in 2001. By 2006 it had shipped only two EUV prototype \n",
      "machines to research facilities, and it took until 2010 to ship one to a customer. Five years later, ASML warned in its\n",
      "\n",
      "progress remains possible.  \n",
      " \n",
      "Yet that also means the pressure is on. ASML has to try and stay ahead of the demands of Moore’s Law. It has to \n",
      "continue making sure chipmakers can keep doubling the amount of rice on the chessboard. Will that be possible? Van \n",
      "den Brink sat down with MIT Technology Review to talk about ASML’s history, its legacy, and what comes next.\n",
      "\n",
      "5 \n",
      " \n",
      "The real question, perhaps, is not who will make the machines, but whether Moore’s Law will hold at all. Nvidia CEO \n",
      "Jensen Huang has already declared it dead. But when asked what he thought might eventually cause Moore’s Law to \n",
      "finally stall out, van den Brink rejected the premise entirely.  \n",
      " \n",
      "“There’s no reason to believe this will stop. You won’t get the answer from me where it will end,” he said. “It will end \n",
      "when we’re running out of ideas where the value we create with all this will not balance with the cost it will take. Then \n",
      "it will end. And not by the lack of ideas.” \n",
      " \n",
      "He had struck a similar posture during his Moore tribute at the SPIE conference, exuding confidence. “I’m not sure who \n",
      "will give the presentation 10 years from now,” he said, going back to his rice analogy. “But my successors,” he claimed, \n",
      "“will still have the opportunity to fill the chessboard.” \n",
      " \n",
      "This story was updated to clarify information about ASML's operations in China.\n",
      "\n",
      "Question: MY_QUESTION\n",
      "\n",
      "Answer:\n"
     ]
    }
   ],
   "source": [
    "print(preview_formatted_prompt(\"MY_QUESTION\", retriever, few_shot_prompt_template))"
   ]
  },
  {
   "cell_type": "code",
   "execution_count": 19,
   "metadata": {},
   "outputs": [
    {
     "name": "stdout",
     "output_type": "stream",
     "text": [
      "\n",
      "\n",
      "\u001b[1m> Entering new RetrievalQA chain...\u001b[0m\n",
      "\n",
      "\u001b[1m> Finished chain.\u001b[0m\n",
      "Total Tokens: 2076\n",
      "Prompt Tokens: 1906\n",
      "Completion Tokens: 170\n",
      "Total Cost (USD): $0.0022459999999999997\n"
     ]
    }
   ],
   "source": [
    "question_1 = \"Generate a concise summary (1-2 paragraphs) highlighting the key points of the document.\"\n",
    "context_q1, result_q1 = ask_llm(question_1, qa_chain_zero_shot, retriever)"
   ]
  },
  {
   "cell_type": "code",
   "execution_count": 18,
   "metadata": {},
   "outputs": [],
   "source": [
    "# qa_chain_zero_shot_mmr = RetrievalQA.from_chain_type(\n",
    "#     llm=llm,\n",
    "#     chain_type=\"stuff\",\n",
    "#     retriever=retriever_mmr,\n",
    "#     chain_type_kwargs={\"prompt\": zero_shot_prompt_template},\n",
    "#     verbose=True\n",
    "# )\n",
    "\n",
    "# question_1 = \"Generate a concise summary (1-2 paragraphs) highlighting the key points of the document.\"\n",
    "# context_q1, result_q1 = ask_llm(question_1, qa_chain_zero_shot_mmr, retriever_mmr)"
   ]
  },
  {
   "cell_type": "code",
   "execution_count": 20,
   "metadata": {},
   "outputs": [
    {
     "name": "stdout",
     "output_type": "stream",
     "text": [
      "Number of tokens in the output: 170\n"
     ]
    }
   ],
   "source": [
    "num_tokens = count_tokens(result_q1['result'], LLM_HYPERPARAMETERS['MODEL_NAME'])\n",
    "print(f\"Number of tokens in the output: {num_tokens}\")"
   ]
  },
  {
   "cell_type": "code",
   "execution_count": 21,
   "metadata": {},
   "outputs": [
    {
     "name": "stdout",
     "output_type": "stream",
     "text": [
      "Generate a concise summary (1-2 paragraphs) highlighting the key points of the document.\n"
     ]
    }
   ],
   "source": [
    "print(result_q1['query'])"
   ]
  },
  {
   "cell_type": "code",
   "execution_count": 22,
   "metadata": {},
   "outputs": [
    {
     "name": "stdout",
     "output_type": "stream",
     "text": [
      "smoothness of mirrors destined for ASML. The aim was to reduce the number of costly repercussions the change would \n",
      "have on the rest of the supply chain, like the companies that make reticles containing the designs of the chips.\n",
      "\n",
      "2 \n",
      " \n",
      " \n",
      "Betting big on an unwieldy wavelength \n",
      " \n",
      "ASML is such an undisputed leader in today’s chip ecosystem that it’s hard to believe the company’s market dominance \n",
      "really only dates back to 2017, when its EUV machine, after 17 years of development, upended the conventional process \n",
      "for making chips.  \n",
      " \n",
      "Since the 1960s, photolithography has made it possible to pack computer chips with more and more components. The \n",
      "process involves crafting small circuits by guiding beams of light through a series of mirrors and lenses and then shining \n",
      "that light on a mask, which contains a pattern. Light conveys the chip design, layer by layer, eventually building circuits \n",
      "that form the computational building blocks of everything from smartphones to artificial intelligence. \n",
      " \n",
      "Photolithographers have a limited set of tools at their disposal to make smaller designs, and for decades, the type of \n",
      "light used in the machine was the most critical. In the 1960s, machines used beams of visible light. The smallest features \n",
      "this light could draw on the chip were fairly large—a bit like using a marker to draw a portrait.  \n",
      " \n",
      "Then manufacturers began using smaller and smaller wavelengths of light, and by the early 1980s, they could make \n",
      "chips with ultraviolet light. Nikon and Canon were the industry leaders. ASML, founded in 1984 as a subsidiary of Philips \n",
      "in Eindhoven, the Netherlands, was just a small player. \n",
      " \n",
      "The way van den Brink tells it, he arrived at the company almost by accident. Philips was one of a few technology \n",
      "companies in Holland. When he began his career there in 1984 and was looking into the various opportunities at the \n",
      "company, he became intrigued by a photo of a lithography machine. \n",
      " \n",
      "“I looked at the picture and I said, ‘It has mechanics, it has optics, it has software—this looks like a complex machine. I \n",
      "will be interested in that,” van den Brink told MIT Technology Review. “They said, well, you can do it, but the company \n",
      "will not be part of Philips. We are creating a joint venture with ASM International, and after the joint venture, you will \n",
      "not be part of Philips. I said yes because I couldn’t care less. And that’s how it began.” \n",
      " \n",
      "When van den Brink joined in the 1980s, little about ASML made the company stand out from other major lithography \n",
      "players at the time. “We didn’t sell a substantial amount of systems until the ’90s. And we almost went bankrupt several \n",
      "times in that period,” van den Brink says. “So for us there was only one mission: to survive and show a customer that we \n",
      "could make a difference.” \n",
      " \n",
      "By 1995, it had a strong enough foothold in the industry against competitors Nikon and Canon to go public. But all \n",
      "lithography makers were fighting the same battle to create smaller components on chips.  \n",
      " \n",
      "If you could have eavesdropped on a meeting at ASML in the late 1990s about this predicament, you might have heard \n",
      "chatter about an idea called extreme-ultraviolet (EUV) lithography—along with concerns that it might never work). By \n",
      "that point, with pressure to condense chips beyond current capabilities, it seemed as if everyone was chasing EUV. The \n",
      "idea was to pattern chips with an even smaller wavelength of light (ultimately just 13.5 nanometers). To do so, ASML \n",
      "would have to figure out how to create, capture, and focus this light—processes that had stumped researchers for \n",
      "decades—and build a supply chain of specialized materials, including the smoothest mirrors ever produced. And to \n",
      "make sure the price point wouldn’t drive away its customers.  \n",
      " \n",
      "Canon and Nikon were also pursuing EUV, but the US government denied them a license to participate in the \n",
      "consortium of companies and US national labs researching it. Both subsequently dropped out. Meanwhile ASML \n",
      "acquired the fourth major company pursuing EUV, SVG, in 2001. By 2006 it had shipped only two EUV prototype \n",
      "machines to research facilities, and it took until 2010 to ship one to a customer. Five years later, ASML warned in its\n",
      "\n",
      "1 \n",
      " \n",
      "How ASML took over the chipmaking chessboard \n",
      "MIT Technology Review sat down with outgoing CTO Martin van den Brink to talk about the company’s rise to \n",
      "dominance and the life and death of Moore’s Law. \n",
      " \n",
      "By Mat Honanarchive pageJames O'Donnellarchive page \n",
      "April 1, 2024 \n",
      " \n",
      "On a drab Monday morning in San Jose, California, at the drab San Jose Convention Center, attendees of the SPIE \n",
      "Advanced Lithography and Patterning Conference filed into the main ballroom until all the seats were taken and the \n",
      "crowd began to line the walls along the back and sides of the room. The convention brings together people who work in \n",
      "the chip industry from all over the world. And on this cool February morning, they had gathered to hear tech industry \n",
      "luminaries extol the late Gordon Moore, Intel’s cofounder and first CEO.  \n",
      " \n",
      "Craig Barrett, also a former CEO of Intel, paid tribute, as did the legendary engineer Burn-Jeng Lin, a pioneer of \n",
      "immersion lithography, a patterning technology that enabled the chip industry to continue moving forward about 20 \n",
      "years ago. Mostly the speeches tended toward reflections on Moore himself—testaments to his genius, \n",
      "accomplishments, and humanity. But the last speaker of the morning, Martin van den Brink, took a different tone, more \n",
      "akin to a victory lap than a eulogy. Van den Brink is the outgoing co-president and CTO of ASML, the Dutch company \n",
      "that makes the machines that in turn let manufacturers produce the most advanced computer chips in the world.  \n",
      " \n",
      "Moore’s Law holds that the number of transistors on an integrated circuit doubles every two years or so. In essence, it \n",
      "means that chipmakers are always trying to shrink the transistors on a microchip in order to pack more of them in. The \n",
      "cadence has been increasingly hard to maintain now that transistor dimensions measure in a few nanometers. In recent \n",
      "years ASML’s machines have kept Moore’s Law from sputtering out. Today, they are the only ones in the world capable \n",
      "of producing circuitry at the density needed to keep chipmakers roughly on track. It is the premise of Moore’s Law itself, \n",
      "van den Brink said, that drives the industry forward, year after year.  \n",
      " \n",
      "To showcase how big an achievement it had been to maintain Moore’s Law since he joined ASML in 1984, van den Brink \n",
      "referred to the rice and chessboard problem, in which the number of grains of rice—a proxy for transistors—is doubled \n",
      "on each successive square. The exponential growth in the number of transistors that can be crammed on a chip since \n",
      "1959 means that a single grain of rice back then has now become the equivalent of three ocean tankers, each 240 \n",
      "meters long, full of rice. It’s a lot of rice! Yet Moore’s Law compels the company—compels all of the technology \n",
      "industry—to keep pushing forward. Each era of computing, most recently AI, has brought increased demands, explained \n",
      "van den Brink. In other words, while three tankers full of rice may seem like a lot, tomorrow we’re going to need six. \n",
      "Then 12. Then 24. And so on. \n",
      " \n",
      "ASML’s technology, he assured the gathering, would be there to meet the demands, thanks to the company’s \n",
      "investment in creating tools capable of making ever finer features: the extreme-ultraviolet (EUV) lithography machines \n",
      "it rolled out widely in 2017, the high-numerical-aperture (high-NA) EUV machines it is rolling out now, and the hyper-NA \n",
      "EUV machines it has sketched out for the future.  \n",
      " \n",
      "The tribute may have been designed for Gordon Moore, but at the end of van den Brink’s presentation the entire room \n",
      "rose to give him a standing ovation. Because if Gordon Moore deserves credit for creating the law that drove the \n",
      "progress of the industry, as van den Brink says, van den Brink and ASML deserve much of the credit for ensuring that \n",
      "progress remains possible.  \n",
      " \n",
      "Yet that also means the pressure is on. ASML has to try and stay ahead of the demands of Moore’s Law. It has to\n"
     ]
    }
   ],
   "source": [
    "print(context_q1)"
   ]
  },
  {
   "cell_type": "code",
   "execution_count": 23,
   "metadata": {},
   "outputs": [
    {
     "name": "stdout",
     "output_type": "stream",
     "text": [
      "ASML, a Dutch company, has become a dominant force in the chip industry since the development of its EUV machine in 2017. This machine revolutionized the process of making chips by using extreme-ultraviolet (EUV) lithography, which allows for the creation of smaller components on chips. ASML's technology has enabled the industry to maintain Moore's Law, which dictates that the number of transistors on an integrated circuit doubles every two years. The company's success has been attributed to its investment in creating tools capable of making ever finer features, such as the EUV lithography machines. ASML's ability to meet the demands of Moore's Law has earned it widespread recognition and a standing ovation at a tech industry conference. However, the company faces ongoing pressure to continue staying ahead of the demands of Moore's Law.\n"
     ]
    }
   ],
   "source": [
    "print(result_q1['result'])"
   ]
  },
  {
   "cell_type": "markdown",
   "metadata": {},
   "source": [
    "## Question 2"
   ]
  },
  {
   "cell_type": "code",
   "execution_count": 24,
   "metadata": {},
   "outputs": [
    {
     "name": "stdout",
     "output_type": "stream",
     "text": [
      "\n",
      "\n",
      "\u001b[1m> Entering new RetrievalQA chain...\u001b[0m\n",
      "\n",
      "\u001b[1m> Finished chain.\u001b[0m\n",
      "Total Tokens: 2078\n",
      "Prompt Tokens: 1902\n",
      "Completion Tokens: 176\n",
      "Total Cost (USD): $0.002254\n"
     ]
    }
   ],
   "source": [
    "question_2 = \"Create a bullet-point summary containing 5 main ideas from the document.\"\n",
    "context_q2, result_q2 = ask_llm(question_2, qa_chain_zero_shot, retriever)"
   ]
  },
  {
   "cell_type": "code",
   "execution_count": 25,
   "metadata": {},
   "outputs": [
    {
     "name": "stdout",
     "output_type": "stream",
     "text": [
      "- ASML, a Dutch company, has become the dominant force in the chip industry, particularly in the production of advanced computer chips.\n",
      "- The company's machines have been crucial in maintaining Moore's Law, which dictates the doubling of transistors on an integrated circuit every two years.\n",
      "- ASML's development of extreme-ultraviolet (EUV) lithography machines has been a game-changer in the chipmaking process, allowing for the creation of smaller components on chips.\n",
      "- The company faced significant challenges in developing EUV technology, including the need to create, capture, and focus extremely small wavelengths of light and to build a supply chain of specialized materials, such as smooth mirrors.\n",
      "- ASML's success in staying ahead of the demands of Moore's Law has solidified its market dominance, with competitors like Nikon and Canon dropping out of the pursuit of EUV technology.\n"
     ]
    }
   ],
   "source": [
    "print(result_q2['result'])"
   ]
  },
  {
   "cell_type": "markdown",
   "metadata": {},
   "source": [
    "## Question 3"
   ]
  },
  {
   "cell_type": "code",
   "execution_count": 26,
   "metadata": {},
   "outputs": [
    {
     "name": "stdout",
     "output_type": "stream",
     "text": [
      "\n",
      "\n",
      "\u001b[1m> Entering new RetrievalQA chain...\u001b[0m\n",
      "\n",
      "\u001b[1m> Finished chain.\u001b[0m\n",
      "Total Tokens: 2366\n",
      "Prompt Tokens: 1894\n",
      "Completion Tokens: 472\n",
      "Total Cost (USD): $0.002838\n"
     ]
    }
   ],
   "source": [
    "question_3a = \"What are the drivers of ASML's growth?\"\n",
    "context_q3a, result_q3a = ask_llm(question_3a, qa_chain_zero_shot, retriever)"
   ]
  },
  {
   "cell_type": "code",
   "execution_count": 27,
   "metadata": {},
   "outputs": [
    {
     "name": "stdout",
     "output_type": "stream",
     "text": [
      "ASML's growth can be attributed to several key drivers. Firstly, the company's investment in research and development (R&D) has been a major factor in its success. ASML has consistently invested in creating tools capable of making ever finer features, such as the extreme-ultraviolet (EUV) lithography machines it rolled out in 2017, the high-numerical-aperture (high-NA) EUV machines it is currently rolling out, and the hyper-NA EUV machines it has planned for the future. This commitment to innovation has allowed ASML to stay ahead of the demands of Moore's Law and maintain its position as a leader in the industry.\n",
      "\n",
      "Additionally, ASML's control of the supply chain has played a significant role in its growth. The company has strategically acquired companies it relies on, such as Cymer, a maker of light sources, allowing it to control key components of its manufacturing process. This control of the supply chain has extended to ASML's customers as well, with the company offering shares to its three biggest customers in 2012. This strategy has allowed ASML to maintain market dominance and ensure its success is closely tied to the success of its customers.\n",
      "\n",
      "Furthermore, ASML's ability to successfully bring new technologies to market has been a driver of its growth. Despite initial challenges and skepticism, ASML's investment in EUV technology eventually paid off, with the company shipping 10 EUV machines in 2017 and announcing dozens more on backorder. The improved capabilities of these machines, including a brighter light source and faster production speeds, made EUV technology economically viable for chipmakers, putting ASML in a monopoly position in the market.\n",
      "\n",
      "Finally, ASML's ability to adapt to changing industry demands and technological advancements has been crucial to its growth. The company recognized the increasing demand for computing power driven by artificial intelligence and responded by focusing on innovations to print even smaller components. This adaptability and forward-thinking approach have allowed ASML to stay at the forefront of the semiconductor industry.\n",
      "\n",
      "In summary, ASML's growth has been driven by its commitment to R&D, control of the supply chain, successful introduction of new technologies, and ability to adapt to industry trends and technological advancements. These factors have positioned ASML as a dominant force in the chipmaking industry and have contributed to its ongoing success.\n"
     ]
    }
   ],
   "source": [
    "print(result_q3a['result'])"
   ]
  },
  {
   "cell_type": "code",
   "execution_count": 28,
   "metadata": {},
   "outputs": [
    {
     "name": "stdout",
     "output_type": "stream",
     "text": [
      "\n",
      "\n",
      "\u001b[1m> Entering new RetrievalQA chain...\u001b[0m\n",
      "\n",
      "\u001b[1m> Finished chain.\u001b[0m\n",
      "Total Tokens: 2202\n",
      "Prompt Tokens: 1936\n",
      "Completion Tokens: 266\n",
      "Total Cost (USD): $0.002468\n"
     ]
    }
   ],
   "source": [
    "question_3b = \"What is the next big idea for ASML?\"\n",
    "context_q3b, result_q3b = ask_llm(question_3b, qa_chain_zero_shot, retriever)"
   ]
  },
  {
   "cell_type": "code",
   "execution_count": 29,
   "metadata": {},
   "outputs": [
    {
     "name": "stdout",
     "output_type": "stream",
     "text": [
      "The next big idea for ASML is to continue pushing the boundaries of chipmaking technology by developing and implementing even more advanced lithography machines. Specifically, ASML is focused on further refining and improving extreme-ultraviolet (EUV) lithography, as well as developing high-numerical-aperture (high-NA) EUV machines and potentially hyper-NA EUV machines in the future. These machines are crucial for enabling chipmakers to continue shrinking transistor dimensions and packing more transistors onto microchips, in line with the principles of Moore's Law.\n",
      "\n",
      "ASML's investment in creating tools capable of making ever finer features, such as the EUV lithography machines, demonstrates the company's commitment to staying at the forefront of technological innovation in the chip industry. By continuously improving and advancing lithography technology, ASML aims to ensure that progress in chip manufacturing remains possible, despite the increasing demands of Moore's Law.\n",
      "\n",
      "In summary, the next big idea for ASML is to continue innovating and developing cutting-edge lithography machines that will enable chipmakers to keep up with the relentless pace of progress and technological advancement in the industry. This commitment to pushing the boundaries of chipmaking technology is essential for ASML to maintain its position as a leader in the chip ecosystem and to support the ongoing evolution of the technology industry.\n"
     ]
    }
   ],
   "source": [
    "print(result_q3b['result'])"
   ]
  },
  {
   "cell_type": "markdown",
   "metadata": {},
   "source": [
    "## Question 4"
   ]
  },
  {
   "cell_type": "markdown",
   "metadata": {},
   "source": [
    "Here we utilise few-shot prompting for the critique of the thesis!\n",
    "\n",
    "This can viewed as in-context learning (that of course is not permanent). Can be viewed somewhat analgously to fine-tuning in that we aim to shift the distribution of predicted tokens based on domain/task-specific data."
   ]
  },
  {
   "cell_type": "code",
   "execution_count": 9,
   "metadata": {},
   "outputs": [
    {
     "name": "stdout",
     "output_type": "stream",
     "text": [
      "\n",
      "\n",
      "\u001b[1m> Entering new RetrievalQA chain...\u001b[0m\n",
      "\n",
      "\u001b[1m> Finished chain.\u001b[0m\n",
      "Original Investment Thesis:\n",
      "ASML is a dominant player in the semiconductor manufacturing industry, with a history of successful innovation and technological advancement. The company's EUV machines have revolutionized the chip-making process, leading to increased demand from major semiconductor manufacturers. ASML's control of the supply chain and its ability to stay ahead of technological advancements position it as a strong investment opportunity. Despite initial challenges, the company has demonstrated its ability to overcome obstacles and maintain market dominance. With a track record of successful R&D investments and a monopoly position in the industry, ASML presents a compelling investment opportunity for long-term growth and potential returns.\n"
     ]
    }
   ],
   "source": [
    "# Create prompt template\n",
    "thesis_template = \"\"\"You are a world-leading financial analyst. Please provide a simple investment thesis for the given company.\n",
    "\n",
    "Context:\n",
    "{context}\n",
    "\n",
    "Q: {question}\n",
    "\n",
    "A:\"\"\"\n",
    "\n",
    "zero_shot_thesis_template = PromptTemplate(\n",
    "    input_variables=[\"context\", \"question\"],\n",
    "    template=thesis_template\n",
    ")\n",
    "\n",
    "# Create RetrievalQA chain\n",
    "thesis_chain_zero_shot = RetrievalQA.from_chain_type(\n",
    "    llm=llm,\n",
    "    chain_type=\"stuff\",\n",
    "    retriever=retriever,\n",
    "    chain_type_kwargs={\"prompt\": zero_shot_thesis_template},\n",
    "    verbose=True\n",
    ")\n",
    "\n",
    "company = \"ASML\"\n",
    "company_and_thesis_original = thesis_chain_zero_shot.invoke(f\"Generate an investment thesis for {company}\")\n",
    "original_thesis = company_and_thesis_original['result']\n",
    "\n",
    "print(\"Original Investment Thesis:\")\n",
    "print(original_thesis)"
   ]
  },
  {
   "cell_type": "code",
   "execution_count": 28,
   "metadata": {},
   "outputs": [],
   "source": [
    "critique_examples = [\n",
    "    {\n",
    "        \"question\": \"Investment thesis for ASML: ASML is poised for long-term growth due to its monopoly in EUV lithography machines, essential for advanced semiconductor manufacturing. With increasing demand for high-performance chips in AI, 5G, and IoT applications, ASML's technology is critical. Their strong R&D investments and partnerships with major chip manufacturers ensure their continued market leadership.\",\n",
    "        \"answer\": \"Strengths: Recognizes ASML's monopoly in EUV lithography, growing demand for advanced chips, and strong R&D investments. Weaknesses: Lacks specific financial metrics, doesn't address potential risks like geopolitical tensions or cyclical nature of semiconductor industry. Could be improved by including quantitative growth projections and discussing ASML's valuation relative to peers.\"\n",
    "    }\n",
    "]\n",
    "\n",
    "critique_example_template = \"\"\"\n",
    "Thesis: {question}\n",
    "Critique: {answer}\n",
    "\"\"\"\n",
    "\n",
    "critique_example_prompt = PromptTemplate(\n",
    "    input_variables=[\"question\", \"answer\"],\n",
    "    template=critique_example_template\n",
    ")\n",
    "\n",
    "critique_prompt_template = FewShotPromptTemplate(\n",
    "    examples=get_random_examples(critique_examples, 1),\n",
    "    example_prompt=critique_example_prompt,\n",
    "    prefix=\"\"\"You are a world-leading, and sceptical financial analyst. Please provide a critique of the given investment thesis, highlighting its strengths, weaknesses, and references. PLEASE PROVIDE EXPLICIT REFERENCES, WITH QUOTES, FROM THE PROVIDED CONTEXT WHERE APPROPRIATE! If there are references that contradict the provided thesis, please provide these.\n",
    "Here is an example:\"\"\",\n",
    "    suffix=\"\"\"\n",
    "Context:\n",
    "{context}\n",
    "\n",
    "Thesis: {question}\n",
    "Critique:\"\"\",\n",
    "    input_variables=[\"context\", \"question\"],\n",
    "    example_separator=\"\\n\\n\"\n",
    ")\n",
    "\n",
    "critique_chain_few_shot = RetrievalQA.from_chain_type(\n",
    "    llm=llm,\n",
    "    chain_type=\"stuff\",\n",
    "    retriever=retriever,\n",
    "    chain_type_kwargs={\"prompt\": critique_prompt_template},\n",
    "    verbose=True\n",
    ")"
   ]
  },
  {
   "cell_type": "code",
   "execution_count": 29,
   "metadata": {},
   "outputs": [
    {
     "name": "stdout",
     "output_type": "stream",
     "text": [
      "\n",
      "\n",
      "\u001b[1m> Entering new RetrievalQA chain...\u001b[0m\n",
      "\n",
      "\u001b[1m> Finished chain.\u001b[0m\n"
     ]
    }
   ],
   "source": [
    "thesis_and_critique = critique_chain_few_shot.invoke(original_thesis)"
   ]
  },
  {
   "cell_type": "code",
   "execution_count": 30,
   "metadata": {},
   "outputs": [
    {
     "name": "stdout",
     "output_type": "stream",
     "text": [
      "Strengths: The thesis accurately highlights ASML's historical success in innovation and technological advancement, as well as its monopoly position in the industry. It also acknowledges the company's control of the supply chain and its ability to stay ahead of technological advancements. The mention of successful R&D investments and the potential for long-term growth and returns also adds credibility to the thesis.\n",
      "\n",
      "Weaknesses: The thesis lacks specific financial metrics to support the investment opportunity, such as revenue growth, profit margins, or valuation metrics. It also does not address potential risks, such as geopolitical tensions or the cyclical nature of the semiconductor industry, which could impact ASML's future performance. Additionally, the thesis could be improved by including quantitative growth projections and discussing ASML's valuation relative to peers.\n",
      "\n",
      "References:\n",
      "- The thesis accurately highlights ASML's historical success in innovation and technological advancement, as well as its monopoly position in the industry. (Source: Annual report, \"ASML is such an undisputed leader in today’s chip ecosystem that it’s hard to believe the company’s market dominance really only dates back to 2017, when its EUV machine, after 17 years of development, upended the conventional process for making chips.\")\n",
      "- The thesis mentions ASML's control of the supply chain and its ability to stay ahead of technological advancements. (Source: \"A key factor in ASML’s growth was its control of the supply chain.\")\n",
      "- The thesis lacks specific financial metrics to support the investment opportunity. (Source: No specific financial metrics provided in the context.)\n",
      "- The thesis does not address potential risks, such as geopolitical tensions or the cyclical nature of the semiconductor industry. (Source: No mention of potential risks in the context.)\n",
      "- The thesis could be improved by including quantitative growth projections and discussing ASML's valuation relative to peers. (Source: No quantitative growth projections or valuation discussion in the context.)\n"
     ]
    }
   ],
   "source": [
    "print(thesis_and_critique['result'])"
   ]
  },
  {
   "cell_type": "markdown",
   "metadata": {},
   "source": [
    "What about an incredibly basic investment thesis, with no substance whatsoever?"
   ]
  },
  {
   "cell_type": "code",
   "execution_count": 31,
   "metadata": {},
   "outputs": [
    {
     "name": "stdout",
     "output_type": "stream",
     "text": [
      "\n",
      "\n",
      "\u001b[1m> Entering new RetrievalQA chain...\u001b[0m\n",
      "\n",
      "\u001b[1m> Finished chain.\u001b[0m\n"
     ]
    }
   ],
   "source": [
    "bad_thesis = \"ASML is a rubbish company and you should not buy it!\"\n",
    "bad_thesis_and_critique = critique_chain_few_shot.invoke(bad_thesis)"
   ]
  },
  {
   "cell_type": "code",
   "execution_count": 32,
   "metadata": {},
   "outputs": [
    {
     "name": "stdout",
     "output_type": "stream",
     "text": [
      "The provided context does not support the thesis that ASML is a rubbish company and should not be bought. In fact, the context provides evidence of ASML's market dominance and technological advancements in the semiconductor industry. The company's monopoly in EUV lithography machines, essential for advanced semiconductor manufacturing, is highlighted, as well as its strong R&D investments and partnerships with major chip manufacturers. The context also emphasizes ASML's role in maintaining Moore's Law and meeting the increasing demands for advanced computer chips.\n",
      "\n",
      "Strengths: The context supports the strengths of ASML, including its market dominance in EUV lithography, technological advancements, and ability to meet the demands of Moore's Law.\n",
      "\n",
      "Weaknesses: The thesis lacks specific evidence or references to support the claim that ASML is a rubbish company and should not be bought. It does not address the company's financial performance, market position, or any specific weaknesses that would justify such a negative assessment.\n",
      "\n",
      "Overall, the thesis lacks credibility and does not align with the evidence provided in the context. It would benefit from specific references and evidence to support the negative assessment of ASML as a company.\n",
      "\n",
      "References:\n",
      "- \"ASML is such an undisputed leader in today’s chip ecosystem\" (Context)\n",
      "- \"ASML’s machines have kept Moore’s Law from sputtering out\" (Context)\n",
      "- \"ASML’s technology, he assured the gathering, would be there to meet the demands, thanks to the company’s investment in creating tools capable of making ever finer features\" (Context)\n"
     ]
    }
   ],
   "source": [
    "print(bad_thesis_and_critique['result'])"
   ]
  },
  {
   "cell_type": "markdown",
   "metadata": {},
   "source": [
    "#### Now using gpt4 model..."
   ]
  },
  {
   "cell_type": "code",
   "execution_count": 34,
   "metadata": {},
   "outputs": [],
   "source": [
    "# Define (OpenAI) model hyperparameters to use (See pricing above!)\n",
    "LLM_HYPERPARAMETERS = {\n",
    "    'MODEL_NAME': 'gpt-4-turbo',\n",
    "    'CHAT_MODEL': True,\n",
    "    'TEMPERATURE': 0,\n",
    "    'VERBOSE': True,\n",
    "    'MAX_OUTPUT_TOKENS': -1 # Set to -1 for no limit\n",
    "}\n",
    "\n",
    "# Instantiate (Chat) OpenAI LLM\n",
    "if LLM_HYPERPARAMETERS['CHAT_MODEL'] == True:\n",
    "    llm_gpt4 = ChatOpenAI(\n",
    "        model=LLM_HYPERPARAMETERS['MODEL_NAME'], \n",
    "        temperature=LLM_HYPERPARAMETERS['TEMPERATURE'], \n",
    "        verbose=LLM_HYPERPARAMETERS['VERBOSE']\n",
    "    )\n",
    "else:\n",
    "    llm_gpt4 = OpenAI(\n",
    "        model=LLM_HYPERPARAMETERS['MODEL_NAME'], \n",
    "        temperature=LLM_HYPERPARAMETERS['TEMPERATURE'], \n",
    "        verbose=LLM_HYPERPARAMETERS['VERBOSE']\n",
    "    )"
   ]
  },
  {
   "cell_type": "code",
   "execution_count": 35,
   "metadata": {},
   "outputs": [
    {
     "name": "stdout",
     "output_type": "stream",
     "text": [
      "\n",
      "\n",
      "\u001b[1m> Entering new RetrievalQA chain...\u001b[0m\n",
      "\n",
      "\u001b[1m> Finished chain.\u001b[0m\n",
      "Original Investment Thesis:\n",
      "**Investment Thesis for ASML**\n",
      "\n",
      "**1. Market Leadership and Technological Edge:**\n",
      "ASML has established itself as a dominant player in the semiconductor equipment industry, particularly in the field of extreme-ultraviolet (EUV) lithography. Since successfully commercializing EUV technology, ASML has effectively secured a monopoly in this high-precision area, with its machines being critical for leading chipmakers like Intel, Samsung, and TSMC. This technological edge provides ASML with a significant competitive moat, as alternative technologies and competitors have not reached similar levels of development or adoption.\n",
      "\n",
      "**2. Critical Role in Advancing Moore's Law:**\n",
      "ASML's technology is pivotal in enabling the continuation of Moore's Law, which posits the doubling of transistors on a microchip approximately every two years, thereby increasing performance. ASML’s advancements in lithography, including its innovations in EUV and numerical aperture, allow for the production of smaller, more efficient, and powerful chips. This capability is crucial as industries such as computing, consumer electronics, and emerging technologies like artificial intelligence demand increasingly sophisticated semiconductor components.\n",
      "\n",
      "**3. Strong Financial Performance and Customer Base:**\n",
      "ASML has demonstrated robust financial growth, underscored by significant R&D investments that have historically led to breakthroughs in lithographic technology. The company's customer base includes the largest and most influential names in the semiconductor industry, ensuring a steady demand for its high-cost equipment. The backlog of orders and the strategic sale of shares to key customers further align ASML’s interests with those of its primary users, enhancing long-term relationships and financial stability.\n",
      "\n",
      "**4. Strategic Supply Chain Control:**\n",
      "ASML’s acquisition strategy, including the purchase of light source manufacturer Cymer, has allowed it to control crucial aspects of the supply chain. This vertical integration secures the production of essential components, mitigates risks related to supplier dependency, and enhances its ability to manage production costs and timelines.\n",
      "\n",
      "**5. Geopolitical and Regulatory Environment:**\n",
      "While the restriction on selling some of its most advanced systems to China presents challenges, it also underscores the strategic importance of ASML's technology on a global scale. These restrictions reflect the company's pivotal role in the international semiconductor landscape and the high stakes associated with advanced chipmaking capabilities. Moreover, ASML’s engagement in navigating these geopolitical dynamics highlights its importance and influence in global technology and trade policies.\n",
      "\n",
      "**6. Innovation and Future Growth Prospects:**\n",
      "ASML continues to push the boundaries of what is possible in lithography through ongoing innovation. The company’s focus on increasing the numerical aperture and enhancing the capabilities of its systems suggests a clear path for future technological advancements and market leadership. This ongoing innovation not only secures ASML's role as an essential player in the semiconductor industry but also opens up new opportunities for growth as the demand for more powerful and efficient chips continues to rise.\n",
      "\n",
      "**Conclusion:**\n",
      "Given ASML’s unparalleled position in the semiconductor equipment market, its critical role in the technological advancement of chip manufacturing, strong financials, strategic supply chain control, and ongoing innovation, the company represents a compelling investment opportunity. Investors should consider the long-term growth potential driven by global demand for advanced computing capabilities and the strategic importance of maintaining a leading edge in semiconductor technology.\n"
     ]
    }
   ],
   "source": [
    "thesis_chain_zero_shot_gpt4 = RetrievalQA.from_chain_type(\n",
    "    llm=llm_gpt4,\n",
    "    chain_type=\"stuff\",\n",
    "    retriever=retriever,\n",
    "    chain_type_kwargs={\"prompt\": zero_shot_thesis_template},\n",
    "    verbose=True\n",
    ")\n",
    "\n",
    "company = \"ASML\"\n",
    "company_and_thesis_original = thesis_chain_zero_shot_gpt4.invoke(f\"Generate an investment thesis for {company}\")\n",
    "original_thesis = company_and_thesis_original['result']\n",
    "\n",
    "print(\"Original Investment Thesis:\")\n",
    "print(original_thesis)"
   ]
  },
  {
   "cell_type": "code",
   "execution_count": 37,
   "metadata": {},
   "outputs": [
    {
     "name": "stdout",
     "output_type": "stream",
     "text": [
      "\n",
      "\n",
      "\u001b[1m> Entering new RetrievalQA chain...\u001b[0m\n",
      "\n",
      "\u001b[1m> Finished chain.\u001b[0m\n"
     ]
    }
   ],
   "source": [
    "critique_chain_few_shot_gpt4 = RetrievalQA.from_chain_type(\n",
    "    llm=llm_gpt4,\n",
    "    chain_type=\"stuff\",\n",
    "    retriever=retriever,\n",
    "    chain_type_kwargs={\"prompt\": critique_prompt_template},\n",
    "    verbose=True\n",
    ")\n",
    "\n",
    "thesis_and_critique = critique_chain_few_shot_gpt4.invoke(original_thesis)"
   ]
  },
  {
   "cell_type": "code",
   "execution_count": 38,
   "metadata": {},
   "outputs": [
    {
     "name": "stdout",
     "output_type": "stream",
     "text": [
      "**Critique of the Investment Thesis for ASML**\n",
      "\n",
      "**Strengths:**\n",
      "1. **Market Leadership and Technological Edge:** The thesis accurately highlights ASML's dominance in the EUV lithography sector, a critical technology for advanced semiconductor manufacturing. This is supported by the context stating, \"ASML is such an undisputed leader in today’s chip ecosystem\" and \"ASML’s bet began to pay off\" with the successful shipment and adoption of EUV machines by major chipmakers (Context 3).\n",
      "\n",
      "2. **Critical Role in Advancing Moore's Law:** The thesis correctly identifies ASML's pivotal role in sustaining Moore's Law through technological advancements in EUV lithography. This is echoed by van den Brink's statement during the SPIE Advanced Lithography and Patterning Conference, emphasizing ASML's contribution to maintaining Moore's Law (Context 1).\n",
      "\n",
      "3. **Strong Financial Performance and Customer Base:** The thesis points out ASML's robust financial growth and strategic customer relationships, which is corroborated by the significant investments in R&D and the backlog of orders from top semiconductor manufacturers (Context 3).\n",
      "\n",
      "4. **Strategic Supply Chain Control:** The acquisition of Cymer and other strategic moves to control the supply chain are well-noted in the thesis and confirmed by the context, enhancing ASML's production capabilities and reducing dependency risks (Context 3).\n",
      "\n",
      "**Weaknesses:**\n",
      "1. **Lack of Specific Financial Metrics:** The thesis mentions \"robust financial growth\" but fails to provide specific financial metrics or comparative analysis to quantify ASML's financial performance over time or against its competitors.\n",
      "\n",
      "2. **Underestimation of Risks:** While the thesis briefly mentions geopolitical challenges, it does not fully explore the potential risks associated with the cyclical nature of the semiconductor industry, technological disruptions, or intensified competition. The context mentions earlier struggles with EUV adoption due to its slow production speeds and significant investment concerns, which could have \"material\" effects on the business (Context 3).\n",
      "\n",
      "3. **Geopolitical and Regulatory Environment:** The thesis could be strengthened by a deeper analysis of the implications of export restrictions to China, considering how these might affect ASML's market opportunities and strategic positioning. The context notes the impact of such restrictions, emphasizing their significance on a global scale (Context 3).\n",
      "\n",
      "4. **Overreliance on Current Technology:** The thesis assumes continued demand for ASML's current technologies without considering potential innovations that might disrupt EUV lithography. The context hints at the long and risky development process for EUV, suggesting vulnerabilities in betting heavily on a single technology (Context 3).\n",
      "\n",
      "**References Contradicting the Thesis:**\n",
      "- The initial slow adoption of EUV technology and concerns about its impact on ASML's business due to production inefficiencies and high costs are mentioned in the context but not adequately addressed in the thesis (Context 3).\n",
      "\n",
      "**Conclusion:**\n",
      "The investment thesis for ASML presents a strong case for the company's market leadership, technological edge, and strategic operations. However, it could be significantly enhanced by incorporating detailed financial analysis, a thorough risk assessment, and a broader consideration of potential market and technological shifts. Addressing these areas would provide a more balanced and comprehensive view of ASML's investment potential.\n"
     ]
    }
   ],
   "source": [
    "print(thesis_and_critique['result'])"
   ]
  },
  {
   "cell_type": "code",
   "execution_count": 39,
   "metadata": {},
   "outputs": [
    {
     "name": "stdout",
     "output_type": "stream",
     "text": [
      "\n",
      "\n",
      "\u001b[1m> Entering new RetrievalQA chain...\u001b[0m\n",
      "\n",
      "\u001b[1m> Finished chain.\u001b[0m\n"
     ]
    }
   ],
   "source": [
    "bad_thesis = \"ASML is a rubbish company and you should not buy it!\"\n",
    "bad_thesis_and_critique = critique_chain_few_shot_gpt4.invoke(bad_thesis)\n"
   ]
  },
  {
   "cell_type": "code",
   "execution_count": 40,
   "metadata": {},
   "outputs": [
    {
     "name": "stdout",
     "output_type": "stream",
     "text": [
      "Critique of the Thesis: \"ASML is a rubbish company and you should not buy it!\"\n",
      "\n",
      "**Strengths:**\n",
      "- The thesis is clear and direct in its stance against investing in ASML.\n",
      "\n",
      "**Weaknesses:**\n",
      "1. **Lack of Evidence and Contextual Support:** The thesis provides no evidence or detailed reasoning to support the claim that ASML is a \"rubbish company.\" This is a significant oversight, especially given the extensive context provided which highlights ASML's pivotal role and technological advancements in the semiconductor industry.\n",
      "   \n",
      "2. **Contradiction with Provided Context:**\n",
      "   - The context explicitly states ASML's critical role in maintaining Moore's Law through its advanced EUV lithography machines. Martin van den Brink, the outgoing CTO, emphasized at the SPIE Advanced Lithography and Patterning Conference that ASML's technology is essential for continuing to meet the demands of modern computing, including AI (\"Today, they are the only ones in the world capable of producing circuitry at the density needed to keep chipmakers roughly on track.\").\n",
      "   - ASML's dominance and technological leadership are further underscored by its historical development and survival through challenging times, eventually leading to its monopoly in EUV lithography (\"ASML is such an undisputed leader in today’s chip ecosystem...\").\n",
      "\n",
      "3. **Ignoring Industry Recognition and Technological Leadership:**\n",
      "   - The context describes how ASML received a standing ovation at a major industry conference, indicating strong industry support and recognition of its contributions (\"the entire room rose to give him a standing ovation\").\n",
      "   - ASML's strategic moves, such as acquiring SVG and being the sole company to continue with EUV technology after Nikon and Canon were denied US licenses, demonstrate a proactive and strategic approach to maintaining its market leadership.\n",
      "\n",
      "4. **Misalignment with Financial and Strategic Insights:**\n",
      "   - The thesis does not consider ASML's strategic investments in R&D and future technologies, which are likely to sustain its competitive advantage (\"ASML’s technology, he assured the gathering, would be there to meet the demands, thanks to the company’s investment in creating tools capable of making ever finer features\").\n",
      "\n",
      "**Improvements:**\n",
      "- **Provide Evidence and Detailed Analysis:** The critique should include specific financial metrics, market analysis, and potential risks that might justify the negative stance. For example, discussing any financial troubles, market challenges, or technological setbacks that ASML might be facing.\n",
      "- **Address Contradictory Evidence:** Since the provided context largely supports ASML's success and industry leadership, any claim about the company being a poor investment should critically engage with and counter these points.\n",
      "- **Discuss Relative Performance:** Comparing ASML's performance, market share, and innovation rate with its competitors could provide a more nuanced view of its market position and investment potential.\n",
      "\n",
      "In conclusion, the thesis that \"ASML is a rubbish company and you should not buy it!\" lacks substantiation and contradicts the detailed context provided, which paints a picture of ASML as a technologically advanced, strategically adept, and industry-leading company. A more balanced and evidence-based analysis would be necessary to support such a negative investment stance.\n"
     ]
    }
   ],
   "source": [
    "print(bad_thesis_and_critique['result'])"
   ]
  }
 ],
 "metadata": {
  "kernelspec": {
   "display_name": ".venv",
   "language": "python",
   "name": "python3"
  },
  "language_info": {
   "codemirror_mode": {
    "name": "ipython",
    "version": 3
   },
   "file_extension": ".py",
   "mimetype": "text/x-python",
   "name": "python",
   "nbconvert_exporter": "python",
   "pygments_lexer": "ipython3",
   "version": "3.12.2"
  }
 },
 "nbformat": 4,
 "nbformat_minor": 2
}
